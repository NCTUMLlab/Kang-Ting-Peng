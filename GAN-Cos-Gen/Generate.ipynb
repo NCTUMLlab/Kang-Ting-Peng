{
 "cells": [
  {
   "cell_type": "code",
   "execution_count": 1,
   "metadata": {
    "collapsed": true,
    "deletable": true,
    "editable": true
   },
   "outputs": [],
   "source": [
    "import numpy as np\n",
    "import tensorflow as tf\n",
    "from sklearn.manifold import TSNE\n",
    "from dataset import Dataset\n",
    "from model import Model\n",
    "import matplotlib.pyplot as plt\n",
    "from sklearn.metrics.pairwise import cosine_similarity\n",
    "from scipy.io import savemat"
   ]
  },
  {
   "cell_type": "code",
   "execution_count": 2,
   "metadata": {
    "collapsed": true,
    "deletable": true,
    "editable": true
   },
   "outputs": [],
   "source": [
    "def sample_z(m, n):\n",
    "    return np.random.normal(loc=0., scale=1., size=[m, n])\n",
    "    #return np.random.uniform(-5., 5., size=[m, n])"
   ]
  },
  {
   "cell_type": "code",
   "execution_count": 3,
   "metadata": {
    "collapsed": false,
    "deletable": true,
    "editable": true
   },
   "outputs": [],
   "source": [
    "dt = Dataset('/home/kt/NIST_npy/', one_hot=True)\n",
    "x_dim = dt.train_data.shape[1]\n",
    "y_dim = dt.train_label.shape[1]\n",
    "z_dim = 100"
   ]
  },
  {
   "cell_type": "code",
   "execution_count": 4,
   "metadata": {
    "collapsed": false,
    "deletable": true,
    "editable": true
   },
   "outputs": [
    {
     "name": "stdout",
     "output_type": "stream",
     "text": [
      "INFO:tensorflow:Restoring parameters from save/model.ckpt\n",
      "Model restored\n"
     ]
    }
   ],
   "source": [
    "model = Model(x_dim, z_dim, y_dim)\n",
    "saver = tf.train.Saver()\n",
    "sess = tf.Session()\n",
    "saver.restore(sess, \"save/model.ckpt\")\n",
    "print(\"Model restored\")"
   ]
  },
  {
   "cell_type": "code",
   "execution_count": 5,
   "metadata": {
    "collapsed": false,
    "deletable": true,
    "editable": true
   },
   "outputs": [
    {
     "data": {
      "text/plain": [
       "4958"
      ]
     },
     "execution_count": 5,
     "metadata": {},
     "output_type": "execute_result"
    }
   ],
   "source": [
    "dt.n_class"
   ]
  },
  {
   "cell_type": "code",
   "execution_count": 6,
   "metadata": {
    "collapsed": false,
    "deletable": true,
    "editable": true
   },
   "outputs": [
    {
     "data": {
      "text/plain": [
       "(1033,)"
      ]
     },
     "execution_count": 6,
     "metadata": {},
     "output_type": "execute_result"
    }
   ],
   "source": [
    "np.where(dt.bincout == 1)[0].shape"
   ]
  },
  {
   "cell_type": "code",
   "execution_count": 13,
   "metadata": {
    "collapsed": false,
    "deletable": true,
    "editable": true,
    "scrolled": false
   },
   "outputs": [
    {
     "name": "stdout",
     "output_type": "stream",
     "text": [
      "1033 classes less than 2\n",
      "1604 classes less than 3\n",
      "1990 classes less than 4\n",
      "2256 classes less than 5\n",
      "2445 classes less than 6\n",
      "2584 classes less than 7\n",
      "2760 classes less than 8\n",
      "3010 classes less than 9\n",
      "3277 classes less than 10\n",
      "2256 2256 6883 6883\n"
     ]
    }
   ],
   "source": [
    "condit = []\n",
    "speakers = []\n",
    "for i in range(2, 11, 1):\n",
    "    times = 1\n",
    "    x = np.where(dt.bincout < i*times)[0]\n",
    "    tmp1 = 'classes less than ' + str(i*times)\n",
    "    tmp2 = x.shape[0]\n",
    "    condit.append(tmp1)\n",
    "    speakers.append(tmp2)\n",
    "    print tmp2, tmp1\n",
    "n = 5\n",
    "count = n - dt.bincout\n",
    "idx = np.where(count > 0)[0]\n",
    "total = count[idx]\n",
    "gen_sum = np.sum(total)\n",
    "y = []\n",
    "for i in range(len(idx)):\n",
    "    for j in range(total[i]):\n",
    "        y.append(idx[i])\n",
    "y = np.asarray(y).astype(np.int)\n",
    "print len(idx), len(total), gen_sum, len(y)\n",
    "\n",
    "one_hot = np.zeros([gen_sum, y_dim], dtype=np.int)\n",
    "one_hot[np.arange(len(y)), y] = 1\n",
    "z = sample_z(len(y), z_dim)"
   ]
  },
  {
   "cell_type": "code",
   "execution_count": 16,
   "metadata": {
    "collapsed": false
   },
   "outputs": [
    {
     "data": {
      "text/plain": [
       "['classes less than 2',\n",
       " 'classes less than 3',\n",
       " 'classes less than 4',\n",
       " 'classes less than 5',\n",
       " 'classes less than 6',\n",
       " 'classes less than 7',\n",
       " 'classes less than 8',\n",
       " 'classes less than 9',\n",
       " 'classes less than 10']"
      ]
     },
     "execution_count": 16,
     "metadata": {},
     "output_type": "execute_result"
    }
   ],
   "source": [
    "speakers\n",
    "condit"
   ]
  },
  {
   "cell_type": "code",
   "execution_count": 23,
   "metadata": {
    "collapsed": false
   },
   "outputs": [
    {
     "data": {
      "image/png": "[encoded data removed]",
      "text/plain": [
       "<matplotlib.figure.Figure at 0x7fb0247ab6d0>"
      ]
     },
     "metadata": {},
     "output_type": "display_data"
    }
   ],
   "source": [
    "xs = [i + 0.1 for i, _ in enumerate(condit)]\n",
    "\n",
    "plt.bar(xs, speakers)\n",
    "plt.ylabel(\"number of speakers\")\n",
    "plt.xticks([i  for i, _ in enumerate(coins)], condit)\n",
    "plt.show()"
   ]
  },
  {
   "cell_type": "code",
   "execution_count": 8,
   "metadata": {
    "collapsed": false,
    "deletable": true,
    "editable": true
   },
   "outputs": [],
   "source": [
    "for i in np.argmax(one_hot, axis=1) == y:\n",
    "    if i != True:\n",
    "        print 'yes'"
   ]
  },
  {
   "cell_type": "code",
   "execution_count": 9,
   "metadata": {
    "collapsed": false,
    "deletable": true,
    "editable": true
   },
   "outputs": [],
   "source": [
    "gen_x = model.generate(sess, z, one_hot)"
   ]
  },
  {
   "cell_type": "code",
   "execution_count": 10,
   "metadata": {
    "collapsed": false,
    "deletable": true,
    "editable": true
   },
   "outputs": [],
   "source": [
    "np.save('Gen_Data/acgan_wc_x_' + str(n) + '.npy', gen_x)\n",
    "np.save('Gen_Data/acgan_wc_y_' + str(n) + '.npy', y)\n",
    "np.save('Gen_Data/acgan_wc_y_onthot_' + str(n) + '.npy', one_hot)"
   ]
  },
  {
   "cell_type": "code",
   "execution_count": 11,
   "metadata": {
    "collapsed": false,
    "deletable": true,
    "editable": true
   },
   "outputs": [
    {
     "name": "stdout",
     "output_type": "stream",
     "text": [
      "(36572, 600)\n",
      "(36572,)\n"
     ]
    }
   ],
   "source": [
    "dt = Dataset('/home/kt/NIST_npy/', one_hot=False)\n",
    "print dt.train_data.shape\n",
    "print dt.train_label.shape"
   ]
  },
  {
   "cell_type": "code",
   "execution_count": 12,
   "metadata": {
    "collapsed": false,
    "deletable": true,
    "editable": true
   },
   "outputs": [
    {
     "name": "stdout",
     "output_type": "stream",
     "text": [
      "(6883, 600)\n",
      "(6883,)\n"
     ]
    }
   ],
   "source": [
    "print gen_x.shape\n",
    "print y.shape"
   ]
  },
  {
   "cell_type": "code",
   "execution_count": 13,
   "metadata": {
    "collapsed": false,
    "deletable": true,
    "editable": true
   },
   "outputs": [
    {
     "name": "stdout",
     "output_type": "stream",
     "text": [
      "Adding training data\n",
      "(43455, 600)\n",
      "(43455,)\n"
     ]
    }
   ],
   "source": [
    "dt.add_training_data(gen_x, y)\n",
    "print dt.train_data.shape\n",
    "print dt.train_label.shape"
   ]
  },
  {
   "cell_type": "code",
   "execution_count": 14,
   "metadata": {
    "collapsed": false,
    "deletable": true,
    "editable": true
   },
   "outputs": [
    {
     "name": "stdout",
     "output_type": "stream",
     "text": [
      "sorting\n"
     ]
    }
   ],
   "source": [
    "dt.sort()\n",
    "mat_x = dt.train_data\n",
    "mat_y = dt.train_label + 1"
   ]
  },
  {
   "cell_type": "code",
   "execution_count": 15,
   "metadata": {
    "collapsed": false,
    "deletable": true,
    "editable": true
   },
   "outputs": [
    {
     "data": {
      "text/plain": [
       "array([1, 1, 1, 1, 1, 2, 2, 2, 2, 2])"
      ]
     },
     "execution_count": 15,
     "metadata": {},
     "output_type": "execute_result"
    }
   ],
   "source": [
    "mat_y[0:10]"
   ]
  },
  {
   "cell_type": "code",
   "execution_count": 16,
   "metadata": {
    "collapsed": true,
    "deletable": true,
    "editable": true
   },
   "outputs": [],
   "source": [
    "train_x = {'x': mat_x}\n",
    "train_y = {'y': mat_y}"
   ]
  },
  {
   "cell_type": "code",
   "execution_count": 17,
   "metadata": {
    "collapsed": false,
    "deletable": true,
    "editable": true
   },
   "outputs": [],
   "source": [
    "mat_path = 'save_mat'\n",
    "savemat(mat_path + '/acgan_wc_x_' + str(n) + '.mat', train_x)\n",
    "savemat(mat_path + '/acgan_wc_y_' + str(n) + '.mat', train_y)"
   ]
  }
 ],
 "metadata": {
  "kernelspec": {
   "display_name": "Python 2",
   "language": "python",
   "name": "python2"
  },
  "language_info": {
   "codemirror_mode": {
    "name": "ipython",
    "version": 2
   },
   "file_extension": ".py",
   "mimetype": "text/x-python",
   "name": "python",
   "nbconvert_exporter": "python",
   "pygments_lexer": "ipython2",
   "version": "2.7.12"
  }
 },
 "nbformat": 4,
 "nbformat_minor": 2
}
