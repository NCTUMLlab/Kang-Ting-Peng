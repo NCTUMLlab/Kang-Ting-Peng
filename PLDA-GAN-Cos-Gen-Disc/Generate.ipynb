{
 "cells": [
  {
   "cell_type": "code",
   "execution_count": 1,
   "metadata": {
    "collapsed": true,
    "deletable": true,
    "editable": true
   },
   "outputs": [],
   "source": [
    "import numpy as np\n",
    "import tensorflow as tf\n",
    "from sklearn.manifold import TSNE\n",
    "from dataset import Dataset\n",
    "from model import Model\n",
    "import matplotlib.pyplot as plt\n",
    "from sklearn.metrics.pairwise import cosine_similarity\n",
    "from dataset import Dataset\n",
    "from scipy.io import savemat"
   ]
  },
  {
   "cell_type": "code",
   "execution_count": 2,
   "metadata": {
    "collapsed": true,
    "deletable": true,
    "editable": true
   },
   "outputs": [],
   "source": [
    "def sample_z(m, n):\n",
    "    return np.random.normal(loc=0., scale=1., size=[m, n])\n",
    "    #return np.random.uniform(-5., 5., size=[m, n])"
   ]
  },
  {
   "cell_type": "code",
   "execution_count": 3,
   "metadata": {
    "collapsed": false,
    "deletable": true,
    "editable": true
   },
   "outputs": [],
   "source": [
    "dt = Dataset('/home/kt/NIST_npy/', one_hot=True)\n",
    "x_dim = dt.train_data.shape[1]\n",
    "y_dim = dt.train_label.shape[1]\n",
    "z_dim = 100\n",
    "save_path = \"save_good/model.ckpt\""
   ]
  },
  {
   "cell_type": "code",
   "execution_count": 4,
   "metadata": {
    "collapsed": false,
    "deletable": true,
    "editable": true
   },
   "outputs": [
    {
     "name": "stdout",
     "output_type": "stream",
     "text": [
      "INFO:tensorflow:Restoring parameters from save_good/model.ckpt\n",
      "Model restored\n"
     ]
    }
   ],
   "source": [
    "model = Model(x_dim, z_dim, y_dim)\n",
    "saver = tf.train.Saver()\n",
    "sess = tf.Session()\n",
    "saver.restore(sess, save_path)\n",
    "print(\"Model restored\")"
   ]
  },
  {
   "cell_type": "code",
   "execution_count": 27,
   "metadata": {
    "collapsed": false,
    "deletable": true,
    "editable": true,
    "scrolled": true
   },
   "outputs": [
    {
     "name": "stdout",
     "output_type": "stream",
     "text": [
      "1033 classes less than 2\n",
      "1990 classes less than 4\n",
      "2445 classes less than 6\n",
      "2760 classes less than 8\n",
      "3277 classes less than 10\n",
      "3804 classes less than 12\n",
      "4174 classes less than 14\n",
      "4417 classes less than 16\n",
      "4594 classes less than 18\n",
      "4711 classes less than 20\n",
      "1033 1033 1033 1033\n"
     ]
    }
   ],
   "source": [
    "for i in range(1, 11, 1):\n",
    "    x = np.where(dt.bincout < i*2)[0]\n",
    "    print x.shape[0], 'classes less than', i*2 \n",
    "n = 2\n",
    "count = n - dt.bincout\n",
    "idx = np.where(count > 0)[0]\n",
    "total = count[idx]\n",
    "gen_sum = np.sum(total)\n",
    "y = []\n",
    "for i in range(len(idx)):\n",
    "    for j in range(total[i]):\n",
    "        y.append(idx[i])\n",
    "y = np.asarray(y).astype(np.int)\n",
    "print len(idx), len(total), gen_sum, len(y)\n",
    "\n",
    "one_hot = np.zeros([gen_sum, y_dim], dtype=np.int)\n",
    "one_hot[np.arange(len(y)), y] = 1\n",
    "z = sample_z(len(y), z_dim)"
   ]
  },
  {
   "cell_type": "code",
   "execution_count": 28,
   "metadata": {
    "collapsed": false,
    "deletable": true,
    "editable": true
   },
   "outputs": [],
   "source": [
    "for i in np.argmax(one_hot, axis=1) == y:\n",
    "    if i != True:\n",
    "        print 'yes'"
   ]
  },
  {
   "cell_type": "code",
   "execution_count": 29,
   "metadata": {
    "collapsed": false,
    "deletable": true,
    "editable": true
   },
   "outputs": [],
   "source": [
    "gen_x = model.generate(sess, z, one_hot)"
   ]
  },
  {
   "cell_type": "code",
   "execution_count": 30,
   "metadata": {
    "collapsed": true,
    "deletable": true,
    "editable": true
   },
   "outputs": [],
   "source": [
    "np.save('Gen_Data/cgen_x_' + str(n) + '.npy', gen_x)\n",
    "np.save('Gen_Data/cgen_y_' + str(n) + '.npy', y)\n",
    "np.save('Gen_Data/cgen_y_onthot_' + str(n) + '.npy', one_hot)"
   ]
  },
  {
   "cell_type": "code",
   "execution_count": 31,
   "metadata": {
    "collapsed": true,
    "deletable": true,
    "editable": true
   },
   "outputs": [],
   "source": [
    "dt = Dataset('/home/kt/NIST_npy/', one_hot=False)"
   ]
  },
  {
   "cell_type": "code",
   "execution_count": 32,
   "metadata": {
    "collapsed": false,
    "deletable": true,
    "editable": true,
    "scrolled": true
   },
   "outputs": [
    {
     "name": "stdout",
     "output_type": "stream",
     "text": [
      "(36572, 600)\n",
      "(36572,)\n"
     ]
    }
   ],
   "source": [
    "print dt.train_data.shape\n",
    "print dt.train_label.shape"
   ]
  },
  {
   "cell_type": "code",
   "execution_count": 33,
   "metadata": {
    "collapsed": false,
    "deletable": true,
    "editable": true
   },
   "outputs": [
    {
     "name": "stdout",
     "output_type": "stream",
     "text": [
      "(1033, 600)\n",
      "(1033,)\n"
     ]
    }
   ],
   "source": [
    "print gen_x.shape\n",
    "print y.shape"
   ]
  },
  {
   "cell_type": "code",
   "execution_count": 34,
   "metadata": {
    "collapsed": false,
    "deletable": true,
    "editable": true
   },
   "outputs": [
    {
     "name": "stdout",
     "output_type": "stream",
     "text": [
      "Adding training data\n",
      "(37605, 600)\n",
      "(37605,)\n"
     ]
    }
   ],
   "source": [
    "dt.add_training_data(gen_x, y)\n",
    "print dt.train_data.shape\n",
    "print dt.train_label.shape"
   ]
  },
  {
   "cell_type": "code",
   "execution_count": 35,
   "metadata": {
    "collapsed": false,
    "deletable": true,
    "editable": true
   },
   "outputs": [
    {
     "name": "stdout",
     "output_type": "stream",
     "text": [
      "sorting\n"
     ]
    }
   ],
   "source": [
    "dt.sort()\n",
    "mat_x = dt.train_data\n",
    "mat_y = dt.train_label + 1"
   ]
  },
  {
   "cell_type": "code",
   "execution_count": 36,
   "metadata": {
    "collapsed": false,
    "deletable": true,
    "editable": true
   },
   "outputs": [
    {
     "data": {
      "text/plain": [
       "array([1, 1, 2, 2, 3, 3, 4, 4, 5, 5])"
      ]
     },
     "execution_count": 36,
     "metadata": {},
     "output_type": "execute_result"
    }
   ],
   "source": [
    "mat_y[0:10]"
   ]
  },
  {
   "cell_type": "code",
   "execution_count": 37,
   "metadata": {
    "collapsed": true,
    "deletable": true,
    "editable": true
   },
   "outputs": [],
   "source": [
    "train_x = {'x': mat_x}\n",
    "train_y = {'y': mat_y}"
   ]
  },
  {
   "cell_type": "code",
   "execution_count": 38,
   "metadata": {
    "collapsed": true,
    "deletable": true,
    "editable": true
   },
   "outputs": [],
   "source": [
    "savemat('save_mat/pgen_x_' + str(n) + '.mat', train_x)\n",
    "savemat('save_mat/pgen_y_' + str(n) + '.mat', train_y)"
   ]
  }
 ],
 "metadata": {
  "kernelspec": {
   "display_name": "Python 2",
   "language": "python",
   "name": "python2"
  },
  "language_info": {
   "codemirror_mode": {
    "name": "ipython",
    "version": 2
   },
   "file_extension": ".py",
   "mimetype": "text/x-python",
   "name": "python",
   "nbconvert_exporter": "python",
   "pygments_lexer": "ipython2",
   "version": "2.7.12"
  }
 },
 "nbformat": 4,
 "nbformat_minor": 2
}
